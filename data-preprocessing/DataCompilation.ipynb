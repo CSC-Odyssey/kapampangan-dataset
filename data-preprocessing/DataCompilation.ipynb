{
 "cells": [
  {
   "cell_type": "code",
   "execution_count": 2,
   "metadata": {},
   "outputs": [
    {
     "data": {
      "text/plain": [
       "['king',\n",
       " 'pasimula',\n",
       " 'lelangan',\n",
       " 'ne',\n",
       " 'ning',\n",
       " 'dios',\n",
       " 'ing',\n",
       " 'banua',\n",
       " 'at',\n",
       " 'ing']"
      ]
     },
     "execution_count": 2,
     "metadata": {},
     "output_type": "execute_result"
    }
   ],
   "source": [
    "import pandas as pd\n",
    "\n",
    "\n",
    "df1 = pd.read_csv(\"../csv/bible_words.csv\", index_col=None)\n",
    "\n",
    "bible_words = df1['words'].tolist()\n",
    "bible_words[0:10]"
   ]
  },
  {
   "cell_type": "code",
   "execution_count": 3,
   "metadata": {},
   "outputs": [
    {
     "data": {
      "text/plain": [
       "['ibuak',\n",
       " 'nang',\n",
       " 'ester',\n",
       " 'ing',\n",
       " 'no',\n",
       " 'vela',\n",
       " 'rin',\n",
       " 'anggang',\n",
       " 'novela',\n",
       " 'if']"
      ]
     },
     "execution_count": 3,
     "metadata": {},
     "output_type": "execute_result"
    }
   ],
   "source": [
    "df2 = pd.read_csv(\"../csv/NovelContent.csv\")\n",
    "\n",
    "content_words = df2['words'].tolist()\n",
    "content_words[0:10]"
   ]
  },
  {
   "cell_type": "code",
   "execution_count": 7,
   "metadata": {},
   "outputs": [
    {
     "data": {
      "text/plain": [
       "['indung',\n",
       " 'alang',\n",
       " 'musing',\n",
       " 'indung',\n",
       " 'alang',\n",
       " 'musing',\n",
       " 'king',\n",
       " 'kekang',\n",
       " 'awus',\n",
       " 'arap']"
      ]
     },
     "execution_count": 7,
     "metadata": {},
     "output_type": "execute_result"
    }
   ],
   "source": [
    "df3 = pd.read_csv(\"../csv/SongsContent.csv\")\n",
    "\n",
    "song_words = df3['words'].tolist()\n",
    "song_words[0:10]"
   ]
  },
  {
   "cell_type": "code",
   "execution_count": 8,
   "metadata": {},
   "outputs": [
    {
     "data": {
      "text/plain": [
       "['king',\n",
       " 'pasimula',\n",
       " 'lelangan',\n",
       " 'ne',\n",
       " 'ning',\n",
       " 'dios',\n",
       " 'ing',\n",
       " 'banua',\n",
       " 'at',\n",
       " 'ing']"
      ]
     },
     "execution_count": 8,
     "metadata": {},
     "output_type": "execute_result"
    }
   ],
   "source": [
    "merged_list = bible_words + content_words + song_words\n",
    "merged_list[0:10]"
   ]
  },
  {
   "cell_type": "code",
   "execution_count": 9,
   "metadata": {},
   "outputs": [
    {
     "data": {
      "text/html": [
       "<div>\n",
       "<style scoped>\n",
       "    .dataframe tbody tr th:only-of-type {\n",
       "        vertical-align: middle;\n",
       "    }\n",
       "\n",
       "    .dataframe tbody tr th {\n",
       "        vertical-align: top;\n",
       "    }\n",
       "\n",
       "    .dataframe thead th {\n",
       "        text-align: right;\n",
       "    }\n",
       "</style>\n",
       "<table border=\"1\" class=\"dataframe\">\n",
       "  <thead>\n",
       "    <tr style=\"text-align: right;\">\n",
       "      <th></th>\n",
       "      <th>words</th>\n",
       "    </tr>\n",
       "  </thead>\n",
       "  <tbody>\n",
       "    <tr>\n",
       "      <th>0</th>\n",
       "      <td>king</td>\n",
       "    </tr>\n",
       "    <tr>\n",
       "      <th>1</th>\n",
       "      <td>pasimula</td>\n",
       "    </tr>\n",
       "    <tr>\n",
       "      <th>2</th>\n",
       "      <td>lelangan</td>\n",
       "    </tr>\n",
       "    <tr>\n",
       "      <th>3</th>\n",
       "      <td>ne</td>\n",
       "    </tr>\n",
       "    <tr>\n",
       "      <th>4</th>\n",
       "      <td>ning</td>\n",
       "    </tr>\n",
       "    <tr>\n",
       "      <th>...</th>\n",
       "      <td>...</td>\n",
       "    </tr>\n",
       "    <tr>\n",
       "      <th>861031</th>\n",
       "      <td>remedios</td>\n",
       "    </tr>\n",
       "    <tr>\n",
       "      <th>861032</th>\n",
       "      <td>patune</td>\n",
       "    </tr>\n",
       "    <tr>\n",
       "      <th>861033</th>\n",
       "      <td>ka</td>\n",
       "    </tr>\n",
       "    <tr>\n",
       "      <th>861034</th>\n",
       "      <td>tugut</td>\n",
       "    </tr>\n",
       "    <tr>\n",
       "      <th>861035</th>\n",
       "      <td>mamaus</td>\n",
       "    </tr>\n",
       "  </tbody>\n",
       "</table>\n",
       "<p>861036 rows × 1 columns</p>\n",
       "</div>"
      ],
      "text/plain": [
       "           words\n",
       "0           king\n",
       "1       pasimula\n",
       "2       lelangan\n",
       "3             ne\n",
       "4           ning\n",
       "...          ...\n",
       "861031  remedios\n",
       "861032    patune\n",
       "861033        ka\n",
       "861034     tugut\n",
       "861035    mamaus\n",
       "\n",
       "[861036 rows x 1 columns]"
      ]
     },
     "execution_count": 9,
     "metadata": {},
     "output_type": "execute_result"
    }
   ],
   "source": [
    "df = pd.DataFrame(merged_list, columns = ['words'])\n",
    "\n",
    "df.to_csv(\"../csv/compiled_words.csv\")\n",
    "df"
   ]
  },
  {
   "cell_type": "code",
   "execution_count": 10,
   "metadata": {},
   "outputs": [
    {
     "data": {
      "text/html": [
       "<div>\n",
       "<style scoped>\n",
       "    .dataframe tbody tr th:only-of-type {\n",
       "        vertical-align: middle;\n",
       "    }\n",
       "\n",
       "    .dataframe tbody tr th {\n",
       "        vertical-align: top;\n",
       "    }\n",
       "\n",
       "    .dataframe thead th {\n",
       "        text-align: right;\n",
       "    }\n",
       "</style>\n",
       "<table border=\"1\" class=\"dataframe\">\n",
       "  <thead>\n",
       "    <tr style=\"text-align: right;\">\n",
       "      <th></th>\n",
       "      <th>word</th>\n",
       "      <th>frequency</th>\n",
       "    </tr>\n",
       "  </thead>\n",
       "  <tbody>\n",
       "    <tr>\n",
       "      <th>6</th>\n",
       "      <td>ing</td>\n",
       "      <td>42065</td>\n",
       "    </tr>\n",
       "    <tr>\n",
       "      <th>0</th>\n",
       "      <td>king</td>\n",
       "      <td>37279</td>\n",
       "    </tr>\n",
       "    <tr>\n",
       "      <th>14</th>\n",
       "      <td>na</td>\n",
       "      <td>35082</td>\n",
       "    </tr>\n",
       "    <tr>\n",
       "      <th>8</th>\n",
       "      <td>at</td>\n",
       "      <td>32785</td>\n",
       "    </tr>\n",
       "    <tr>\n",
       "      <th>4</th>\n",
       "      <td>ning</td>\n",
       "      <td>25628</td>\n",
       "    </tr>\n",
       "    <tr>\n",
       "      <th>...</th>\n",
       "      <td>...</td>\n",
       "      <td>...</td>\n",
       "    </tr>\n",
       "    <tr>\n",
       "      <th>15614</th>\n",
       "      <td>sampulun</td>\n",
       "      <td>1</td>\n",
       "    </tr>\n",
       "    <tr>\n",
       "      <th>15615</th>\n",
       "      <td>pakakaba</td>\n",
       "      <td>1</td>\n",
       "    </tr>\n",
       "    <tr>\n",
       "      <th>15616</th>\n",
       "      <td>ikuyad</td>\n",
       "      <td>1</td>\n",
       "    </tr>\n",
       "    <tr>\n",
       "      <th>15618</th>\n",
       "      <td>likum</td>\n",
       "      <td>1</td>\n",
       "    </tr>\n",
       "    <tr>\n",
       "      <th>25243</th>\n",
       "      <td>pagmasusian</td>\n",
       "      <td>1</td>\n",
       "    </tr>\n",
       "  </tbody>\n",
       "</table>\n",
       "<p>25244 rows × 2 columns</p>\n",
       "</div>"
      ],
      "text/plain": [
       "              word  frequency\n",
       "6              ing      42065\n",
       "0             king      37279\n",
       "14              na      35082\n",
       "8               at      32785\n",
       "4             ning      25628\n",
       "...            ...        ...\n",
       "15614     sampulun          1\n",
       "15615     pakakaba          1\n",
       "15616       ikuyad          1\n",
       "15618        likum          1\n",
       "25243  pagmasusian          1\n",
       "\n",
       "[25244 rows x 2 columns]"
      ]
     },
     "execution_count": 10,
     "metadata": {},
     "output_type": "execute_result"
    }
   ],
   "source": [
    "from collections import Counter\n",
    "\n",
    "freq_counter = Counter(merged_list)\n",
    "\n",
    "freq_table = pd.DataFrame.from_dict(freq_counter, orient='index').reset_index()\n",
    "freq_table = freq_table.rename(columns={'index':'word', 0:'frequency'})\n",
    "freq_table.sort_values(by='frequency', ascending=False, inplace=True)\n",
    "\n",
    "freq_table.to_csv(\"../csv/freqtable.csv\")\n",
    "freq_table\n",
    "\n",
    "freq_table"
   ]
  },
  {
   "cell_type": "code",
   "execution_count": 11,
   "metadata": {},
   "outputs": [
    {
     "data": {
      "text/html": [
       "<div>\n",
       "<style scoped>\n",
       "    .dataframe tbody tr th:only-of-type {\n",
       "        vertical-align: middle;\n",
       "    }\n",
       "\n",
       "    .dataframe tbody tr th {\n",
       "        vertical-align: top;\n",
       "    }\n",
       "\n",
       "    .dataframe thead th {\n",
       "        text-align: right;\n",
       "    }\n",
       "</style>\n",
       "<table border=\"1\" class=\"dataframe\">\n",
       "  <thead>\n",
       "    <tr style=\"text-align: right;\">\n",
       "      <th></th>\n",
       "      <th>word</th>\n",
       "      <th>frequency</th>\n",
       "      <th>probability</th>\n",
       "    </tr>\n",
       "  </thead>\n",
       "  <tbody>\n",
       "    <tr>\n",
       "      <th>6</th>\n",
       "      <td>ing</td>\n",
       "      <td>42065</td>\n",
       "      <td>0.048854</td>\n",
       "    </tr>\n",
       "    <tr>\n",
       "      <th>0</th>\n",
       "      <td>king</td>\n",
       "      <td>37279</td>\n",
       "      <td>0.043296</td>\n",
       "    </tr>\n",
       "    <tr>\n",
       "      <th>14</th>\n",
       "      <td>na</td>\n",
       "      <td>35082</td>\n",
       "      <td>0.040744</td>\n",
       "    </tr>\n",
       "    <tr>\n",
       "      <th>8</th>\n",
       "      <td>at</td>\n",
       "      <td>32785</td>\n",
       "      <td>0.038076</td>\n",
       "    </tr>\n",
       "    <tr>\n",
       "      <th>4</th>\n",
       "      <td>ning</td>\n",
       "      <td>25628</td>\n",
       "      <td>0.029764</td>\n",
       "    </tr>\n",
       "    <tr>\n",
       "      <th>...</th>\n",
       "      <td>...</td>\n",
       "      <td>...</td>\n",
       "      <td>...</td>\n",
       "    </tr>\n",
       "    <tr>\n",
       "      <th>15614</th>\n",
       "      <td>sampulun</td>\n",
       "      <td>1</td>\n",
       "      <td>0.000001</td>\n",
       "    </tr>\n",
       "    <tr>\n",
       "      <th>15615</th>\n",
       "      <td>pakakaba</td>\n",
       "      <td>1</td>\n",
       "      <td>0.000001</td>\n",
       "    </tr>\n",
       "    <tr>\n",
       "      <th>15616</th>\n",
       "      <td>ikuyad</td>\n",
       "      <td>1</td>\n",
       "      <td>0.000001</td>\n",
       "    </tr>\n",
       "    <tr>\n",
       "      <th>15618</th>\n",
       "      <td>likum</td>\n",
       "      <td>1</td>\n",
       "      <td>0.000001</td>\n",
       "    </tr>\n",
       "    <tr>\n",
       "      <th>25243</th>\n",
       "      <td>pagmasusian</td>\n",
       "      <td>1</td>\n",
       "      <td>0.000001</td>\n",
       "    </tr>\n",
       "  </tbody>\n",
       "</table>\n",
       "<p>25244 rows × 3 columns</p>\n",
       "</div>"
      ],
      "text/plain": [
       "              word  frequency  probability\n",
       "6              ing      42065     0.048854\n",
       "0             king      37279     0.043296\n",
       "14              na      35082     0.040744\n",
       "8               at      32785     0.038076\n",
       "4             ning      25628     0.029764\n",
       "...            ...        ...          ...\n",
       "15614     sampulun          1     0.000001\n",
       "15615     pakakaba          1     0.000001\n",
       "15616       ikuyad          1     0.000001\n",
       "15618        likum          1     0.000001\n",
       "25243  pagmasusian          1     0.000001\n",
       "\n",
       "[25244 rows x 3 columns]"
      ]
     },
     "execution_count": 11,
     "metadata": {},
     "output_type": "execute_result"
    }
   ],
   "source": [
    "total_words = freq_table['frequency'].sum()\n",
    "freq_table['probability'] = freq_table['frequency'] / total_words\n",
    "\n",
    "freq_table.to_csv(\"../csv/freqtable_probability.csv\")\n",
    "freq_table"
   ]
  }
 ],
 "metadata": {
  "kernelspec": {
   "display_name": "mykernel",
   "language": "python",
   "name": "mykernel"
  },
  "language_info": {
   "codemirror_mode": {
    "name": "ipython",
    "version": 3
   },
   "file_extension": ".py",
   "mimetype": "text/x-python",
   "name": "python",
   "nbconvert_exporter": "python",
   "pygments_lexer": "ipython3",
   "version": "3.9.12"
  },
  "orig_nbformat": 4,
  "vscode": {
   "interpreter": {
    "hash": "675b13e958f0d0236d13cdfe08a1df3882cae564fa23a2e7e5eb1f2c6c632b02"
   }
  }
 },
 "nbformat": 4,
 "nbformat_minor": 2
}
