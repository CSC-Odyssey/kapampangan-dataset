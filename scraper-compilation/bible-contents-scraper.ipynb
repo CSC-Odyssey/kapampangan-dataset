{
 "cells": [
  {
   "cell_type": "code",
   "execution_count": null,
   "metadata": {},
   "outputs": [],
   "source": [
    "from selenium import webdriver\n",
    "import time\n",
    "\n",
    "browser = webdriver.Chrome(\"../tools/chromedriver.exe\")\n",
    "URL_LINK = (\"https://www.google.com/travel/things-to-do/see-all?dest_mid=%2Fm%2F015l1_&dest_state_type=sattd&dest_src=yts&q=top%20tourist%20attraction%20in%20baguio&ved=0CAAQ8IAIahgKEwiAv4WbpuX7AhUAAAAAHQAAAAAQ2AE&hl=en-PH&gl=ph&g2lb=2502548%2C2503771%2C2503781%2C4258168%2C4270442%2C4284970%2C4291517%2C4306835%2C4597339%2C4718358%2C4723331%2C4731329%2C4757164%2C4814050%2C4861688%2C4864715%2C4879519%2C4886082%2C4886480%2C4893075%2C4902277%2C4903082%2C4906050%2C4913702\")\n",
    "browser.get(URL_LINK)\n",
    "time.sleep(2)\n",
    "\n",
    "SOURCE_HTML = browser.page_source\n",
    "browser.quit()"
   ]
  }
 ],
 "metadata": {
  "language_info": {
   "name": "python"
  },
  "orig_nbformat": 4
 },
 "nbformat": 4,
 "nbformat_minor": 2
}
