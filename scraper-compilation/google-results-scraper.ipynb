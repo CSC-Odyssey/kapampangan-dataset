{
 "cells": [
  {
   "cell_type": "code",
   "execution_count": 1,
   "metadata": {},
   "outputs": [
    {
     "name": "stderr",
     "output_type": "stream",
     "text": [
      "C:\\Users\\Jeremy\\AppData\\Local\\Temp\\ipykernel_5952\\1165748467.py:4: DeprecationWarning: executable_path has been deprecated, please pass in a Service object\n",
      "  browser = webdriver.Chrome(\"../tools/chromedriver.exe\")\n"
     ]
    }
   ],
   "source": [
    "from selenium import webdriver\n",
    "import time\n",
    "\n",
    "browser = webdriver.Chrome(\"../tools/chromedriver.exe\")\n",
    "URL_LINK = (\"https://www.google.com/travel/things-to-do/see-all?dest_mid=%2Fm%2F015l1_&dest_state_type=sattd&dest_src=yts&q=top%20tourist%20attraction%20in%20baguio&ved=0CAAQ8IAIahgKEwiAv4WbpuX7AhUAAAAAHQAAAAAQ2AE&hl=en-PH&gl=ph&g2lb=2502548%2C2503771%2C2503781%2C4258168%2C4270442%2C4284970%2C4291517%2C4306835%2C4597339%2C4718358%2C4723331%2C4731329%2C4757164%2C4814050%2C4861688%2C4864715%2C4879519%2C4886082%2C4886480%2C4893075%2C4902277%2C4903082%2C4906050%2C4913702\")\n",
    "browser.get(URL_LINK)\n",
    "time.sleep(2)\n",
    "\n",
    "SOURCE_HTML = browser.page_source\n",
    "browser.quit()"
   ]
  },
  {
   "cell_type": "code",
   "execution_count": 2,
   "metadata": {},
   "outputs": [],
   "source": [
    "import re\n",
    "\n",
    "def clean_text(number_string):\n",
    "    return re.sub('[^A-Za-z0-9]+', '', number_string).strip()"
   ]
  },
  {
   "cell_type": "code",
   "execution_count": 3,
   "metadata": {},
   "outputs": [],
   "source": [
    "from bs4 import BeautifulSoup\n",
    "import pandas as pd\n",
    "\n",
    "soup = BeautifulSoup(SOURCE_HTML, \"html.parser\")\n",
    "\n",
    "destination_html_cards_set_raw = soup.find('div', {\"class\" : \"kQb6Eb\"})\n",
    "destination_html_cards_raw = destination_html_cards_set_raw.find_all('div', {\"class\" : \"f4hh3d\"})\n",
    "\n",
    "destination_names_list = []\n",
    "destination_desc_list = []\n",
    "destination_totalreviews_list = []\n",
    "\n",
    "for card in destination_html_cards_raw:\n",
    "    # Only pick destination cards with ratings\n",
    "    if \"jdzyld XLC8M\" in str(card):\n",
    "        destination_name = card.find('div', {\"class\" : \"skFvHc YmWhbc\"})\n",
    "        destination_desc = card.find('div', {\"class\" : \"nFoFM\"})\n",
    "        destination_totalreviews = card.find('span', {\"class\" : \"jdzyld XLC8M\"})\n",
    "        # Append each data to their respective lists\n",
    "        destination_names_list.append(destination_name.get_text())\n",
    "        destination_desc_list.append(destination_desc.get_text())\n",
    "        destination_totalreviews_list.append(int(clean_text(destination_totalreviews.get_text())))"
   ]
  },
  {
   "cell_type": "code",
   "execution_count": 4,
   "metadata": {},
   "outputs": [
    {
     "data": {
      "text/html": [
       "<div>\n",
       "<style scoped>\n",
       "    .dataframe tbody tr th:only-of-type {\n",
       "        vertical-align: middle;\n",
       "    }\n",
       "\n",
       "    .dataframe tbody tr th {\n",
       "        vertical-align: top;\n",
       "    }\n",
       "\n",
       "    .dataframe thead th {\n",
       "        text-align: right;\n",
       "    }\n",
       "</style>\n",
       "<table border=\"1\" class=\"dataframe\">\n",
       "  <thead>\n",
       "    <tr style=\"text-align: right;\">\n",
       "      <th></th>\n",
       "      <th>place</th>\n",
       "      <th>description</th>\n",
       "      <th>total_reviews</th>\n",
       "    </tr>\n",
       "  </thead>\n",
       "  <tbody>\n",
       "    <tr>\n",
       "      <th>0</th>\n",
       "      <td>Burnham Park</td>\n",
       "      <td>Urban parkland with a skating rink</td>\n",
       "      <td>23178</td>\n",
       "    </tr>\n",
       "    <tr>\n",
       "      <th>1</th>\n",
       "      <td>Mines View Observation Deck</td>\n",
       "      <td>Popular destination for scenic views</td>\n",
       "      <td>10493</td>\n",
       "    </tr>\n",
       "    <tr>\n",
       "      <th>2</th>\n",
       "      <td>Our Lady of the Atonement Cathedral (Baguio Ca...</td>\n",
       "      <td>Rosy Catholic church with twin towers</td>\n",
       "      <td>3636</td>\n",
       "    </tr>\n",
       "    <tr>\n",
       "      <th>3</th>\n",
       "      <td>Wright Park</td>\n",
       "      <td>Leafy spot for walks &amp; horseback riding</td>\n",
       "      <td>5743</td>\n",
       "    </tr>\n",
       "    <tr>\n",
       "      <th>4</th>\n",
       "      <td>Tam-awan Village</td>\n",
       "      <td>Cordillera huts, traditional art &amp; cafe</td>\n",
       "      <td>1885</td>\n",
       "    </tr>\n",
       "    <tr>\n",
       "      <th>...</th>\n",
       "      <td>...</td>\n",
       "      <td>...</td>\n",
       "      <td>...</td>\n",
       "    </tr>\n",
       "    <tr>\n",
       "      <th>77</th>\n",
       "      <td>STOBOSA (Stonehill, Botiwtiw and Sadjap) Hills...</td>\n",
       "      <td></td>\n",
       "      <td>28</td>\n",
       "    </tr>\n",
       "    <tr>\n",
       "      <th>78</th>\n",
       "      <td>Mt. Kalugong Cultural Village</td>\n",
       "      <td>Short, picturesque hikes &amp; a coffee shop</td>\n",
       "      <td>466</td>\n",
       "    </tr>\n",
       "    <tr>\n",
       "      <th>79</th>\n",
       "      <td>Mt. Yangbew</td>\n",
       "      <td></td>\n",
       "      <td>172</td>\n",
       "    </tr>\n",
       "    <tr>\n",
       "      <th>80</th>\n",
       "      <td>Asin Road Woodcarver's Village</td>\n",
       "      <td></td>\n",
       "      <td>2</td>\n",
       "    </tr>\n",
       "    <tr>\n",
       "      <th>81</th>\n",
       "      <td>Igorot Park</td>\n",
       "      <td></td>\n",
       "      <td>17</td>\n",
       "    </tr>\n",
       "  </tbody>\n",
       "</table>\n",
       "<p>82 rows × 3 columns</p>\n",
       "</div>"
      ],
      "text/plain": [
       "                                                place  \\\n",
       "0                                        Burnham Park   \n",
       "1                         Mines View Observation Deck   \n",
       "2   Our Lady of the Atonement Cathedral (Baguio Ca...   \n",
       "3                                         Wright Park   \n",
       "4                                    Tam-awan Village   \n",
       "..                                                ...   \n",
       "77  STOBOSA (Stonehill, Botiwtiw and Sadjap) Hills...   \n",
       "78                      Mt. Kalugong Cultural Village   \n",
       "79                                        Mt. Yangbew   \n",
       "80                     Asin Road Woodcarver's Village   \n",
       "81                                        Igorot Park   \n",
       "\n",
       "                                 description  total_reviews  \n",
       "0         Urban parkland with a skating rink          23178  \n",
       "1       Popular destination for scenic views          10493  \n",
       "2      Rosy Catholic church with twin towers           3636  \n",
       "3    Leafy spot for walks & horseback riding           5743  \n",
       "4    Cordillera huts, traditional art & cafe           1885  \n",
       "..                                       ...            ...  \n",
       "77                                                       28  \n",
       "78  Short, picturesque hikes & a coffee shop            466  \n",
       "79                                                      172  \n",
       "80                                                        2  \n",
       "81                                                       17  \n",
       "\n",
       "[82 rows x 3 columns]"
      ]
     },
     "execution_count": 4,
     "metadata": {},
     "output_type": "execute_result"
    }
   ],
   "source": [
    "destination_df = pd.DataFrame(list(zip(destination_names_list, destination_desc_list, destination_totalreviews_list)), columns = [\"place\", \"description\", \"total_reviews\"])\n",
    "destination_df.to_csv(\"../csv/tourist_destinations_baguio.csv\", index = False)\n",
    "destination_df"
   ]
  },
  {
   "cell_type": "code",
   "execution_count": null,
   "metadata": {},
   "outputs": [],
   "source": []
  }
 ],
 "metadata": {
  "kernelspec": {
   "display_name": "Python 3",
   "language": "python",
   "name": "python3"
  },
  "language_info": {
   "codemirror_mode": {
    "name": "ipython",
    "version": 3
   },
   "file_extension": ".py",
   "mimetype": "text/x-python",
   "name": "python",
   "nbconvert_exporter": "python",
   "pygments_lexer": "ipython3",
   "version": "3.10.8 (tags/v3.10.8:aaaf517, Oct 11 2022, 16:50:30) [MSC v.1933 64 bit (AMD64)]"
  },
  "orig_nbformat": 4,
  "vscode": {
   "interpreter": {
    "hash": "675b13e958f0d0236d13cdfe08a1df3882cae564fa23a2e7e5eb1f2c6c632b02"
   }
  }
 },
 "nbformat": 4,
 "nbformat_minor": 2
}
