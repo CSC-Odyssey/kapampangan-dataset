{
 "cells": [
  {
   "cell_type": "markdown",
   "metadata": {},
   "source": [
    "# Scrape"
   ]
  },
  {
   "cell_type": "code",
   "execution_count": 3,
   "metadata": {},
   "outputs": [
    {
     "data": {
      "text/html": [
       "<div>\n",
       "<style scoped>\n",
       "    .dataframe tbody tr th:only-of-type {\n",
       "        vertical-align: middle;\n",
       "    }\n",
       "\n",
       "    .dataframe tbody tr th {\n",
       "        vertical-align: top;\n",
       "    }\n",
       "\n",
       "    .dataframe thead th {\n",
       "        text-align: right;\n",
       "    }\n",
       "</style>\n",
       "<table border=\"1\" class=\"dataframe\">\n",
       "  <thead>\n",
       "    <tr style=\"text-align: right;\">\n",
       "      <th></th>\n",
       "      <th>place</th>\n",
       "      <th>description</th>\n",
       "      <th>total_reviews</th>\n",
       "    </tr>\n",
       "  </thead>\n",
       "  <tbody>\n",
       "    <tr>\n",
       "      <th>0</th>\n",
       "      <td>Burnham Park</td>\n",
       "      <td>Urban parkland with a skating rink</td>\n",
       "      <td>23178</td>\n",
       "    </tr>\n",
       "    <tr>\n",
       "      <th>1</th>\n",
       "      <td>Mines View Observation Deck</td>\n",
       "      <td>Popular destination for scenic views</td>\n",
       "      <td>10493</td>\n",
       "    </tr>\n",
       "    <tr>\n",
       "      <th>2</th>\n",
       "      <td>Baguio City Market</td>\n",
       "      <td>Market for food &amp; housewares</td>\n",
       "      <td>8382</td>\n",
       "    </tr>\n",
       "    <tr>\n",
       "      <th>3</th>\n",
       "      <td>Baguio Night Market</td>\n",
       "      <td>Extensive, late-night street market</td>\n",
       "      <td>6307</td>\n",
       "    </tr>\n",
       "    <tr>\n",
       "      <th>4</th>\n",
       "      <td>Wright Park</td>\n",
       "      <td>Leafy spot for walks &amp; horseback riding</td>\n",
       "      <td>5743</td>\n",
       "    </tr>\n",
       "    <tr>\n",
       "      <th>...</th>\n",
       "      <td>...</td>\n",
       "      <td>...</td>\n",
       "      <td>...</td>\n",
       "    </tr>\n",
       "    <tr>\n",
       "      <th>77</th>\n",
       "      <td>19th Tee</td>\n",
       "      <td>NaN</td>\n",
       "      <td>2</td>\n",
       "    </tr>\n",
       "    <tr>\n",
       "      <th>78</th>\n",
       "      <td>Asin Road Woodcarver's Village</td>\n",
       "      <td>NaN</td>\n",
       "      <td>2</td>\n",
       "    </tr>\n",
       "    <tr>\n",
       "      <th>79</th>\n",
       "      <td>Maryhurst Chapel - Maryhurst Road</td>\n",
       "      <td>NaN</td>\n",
       "      <td>1</td>\n",
       "    </tr>\n",
       "    <tr>\n",
       "      <th>80</th>\n",
       "      <td>Pool of Pines</td>\n",
       "      <td>NaN</td>\n",
       "      <td>1</td>\n",
       "    </tr>\n",
       "    <tr>\n",
       "      <th>81</th>\n",
       "      <td>Sunset Terraces</td>\n",
       "      <td>NaN</td>\n",
       "      <td>1</td>\n",
       "    </tr>\n",
       "  </tbody>\n",
       "</table>\n",
       "<p>82 rows × 3 columns</p>\n",
       "</div>"
      ],
      "text/plain": [
       "                                place  \\\n",
       "0                        Burnham Park   \n",
       "1         Mines View Observation Deck   \n",
       "2                  Baguio City Market   \n",
       "3                 Baguio Night Market   \n",
       "4                         Wright Park   \n",
       "..                                ...   \n",
       "77                           19th Tee   \n",
       "78     Asin Road Woodcarver's Village   \n",
       "79  Maryhurst Chapel - Maryhurst Road   \n",
       "80                      Pool of Pines   \n",
       "81                    Sunset Terraces   \n",
       "\n",
       "                                description  total_reviews  \n",
       "0        Urban parkland with a skating rink          23178  \n",
       "1      Popular destination for scenic views          10493  \n",
       "2              Market for food & housewares           8382  \n",
       "3       Extensive, late-night street market           6307  \n",
       "4   Leafy spot for walks & horseback riding           5743  \n",
       "..                                      ...            ...  \n",
       "77                                      NaN              2  \n",
       "78                                      NaN              2  \n",
       "79                                      NaN              1  \n",
       "80                                      NaN              1  \n",
       "81                                      NaN              1  \n",
       "\n",
       "[82 rows x 3 columns]"
      ]
     },
     "execution_count": 3,
     "metadata": {},
     "output_type": "execute_result"
    }
   ],
   "source": [
    "import pandas as pd \n",
    "\n",
    "tourist_destinations_baguio_df = pd.read_csv(r'../csv/uncleaned/tourist_destinations_baguio.csv')\n",
    "tourist_destinations_baguio_df = tourist_destinations_baguio_df.sort_values(['total_reviews'], ascending=[0]).reset_index(drop=True)\n",
    "tourist_destinations_baguio_d"
   ]
  },
  {
   "cell_type": "code",
   "execution_count": 4,
   "metadata": {},
   "outputs": [
    {
     "data": {
      "text/plain": [
       "0                                          Burnham Park\n",
       "1                           Mines View Observation Deck\n",
       "2                                    Baguio City Market\n",
       "3                                   Baguio Night Market\n",
       "4                                           Wright Park\n",
       "5                               Baguio Botanical Garden\n",
       "6     Our Lady of the Atonement Cathedral (Baguio Ca...\n",
       "7       Strawberry Farm - Home of Giant Strawberry Cake\n",
       "8                            The Manor at Camp John Hay\n",
       "9                                           Lion’s Head\n",
       "10                                        BenCab Museum\n",
       "11                 Heritage Hill and Nature Park Garden\n",
       "12                                     Tam-awan Village\n",
       "13                                 Igorot Stone Kingdom\n",
       "14                Baguio Country Club Christmas Village\n",
       "15                                          Bell Church\n",
       "16                                Good Shepherd Convent\n",
       "17                            Tree Top Adventure Baguio\n",
       "18                                     Valley of Colors\n",
       "19                                       Teacher's Camp\n",
       "Name: place, dtype: object"
      ]
     },
     "execution_count": 4,
     "metadata": {},
     "output_type": "execute_result"
    }
   ],
   "source": [
    "place_list = tourist_destinations_baguio_df[\"place\"][:20]\n",
    "place_list"
   ]
  },
  {
   "cell_type": "code",
   "execution_count": 6,
   "metadata": {},
   "outputs": [
    {
     "name": "stdout",
     "output_type": "stream",
     "text": [
      "Estimated times to scroll (Burnham Park): 2318\n",
      "Estimated times to scroll (Mines View Observation Deck): 1050\n",
      "Estimated times to scroll (Baguio City Market): 839\n",
      "Estimated times to scroll (Baguio Night Market): 631\n",
      "Estimated times to scroll (Wright Park): 575\n",
      "Estimated times to scroll (Baguio Botanical Garden): 519\n",
      "Estimated times to scroll (Our Lady of the Atonement Cathedral (Baguio Cathedral) - Archdiocese of Nueva Segovia): 364\n",
      "Estimated times to scroll (Strawberry Farm - Home of Giant Strawberry Cake): 358\n",
      "Estimated times to scroll (The Manor at Camp John Hay): 312\n",
      "Could not find review-dialog-list. Skipping...\n",
      "Estimated times to scroll (Lion’s Head): 280\n",
      "Estimated times to scroll (BenCab Museum): 276\n",
      "Estimated times to scroll (Heritage Hill and Nature Park Garden): 215\n",
      "Estimated times to scroll (Tam-awan Village): 189\n",
      "Estimated times to scroll (Igorot Stone Kingdom): 185\n",
      "Estimated times to scroll (Baguio Country Club Christmas Village): 148\n",
      "Estimated times to scroll (Bell Church): 144\n",
      "Estimated times to scroll (Good Shepherd Convent): 123\n",
      "Estimated times to scroll (Tree Top Adventure Baguio): 96\n",
      "Estimated times to scroll (Valley of Colors): 95\n",
      "Estimated times to scroll (Teacher's Camp): 94\n"
     ]
    }
   ],
   "source": [
    "from bs4 import BeautifulSoup\n",
    "from selenium import webdriver\n",
    "from selenium.webdriver.chrome.service import Service\n",
    "from selenium.webdriver.common.by import By\n",
    "from selenium.webdriver.support.ui import WebDriverWait\n",
    "from selenium.webdriver.support import expected_conditions as EC\n",
    "import time\n",
    "\n",
    "s = Service(\"../tools/chromedriver.exe\")\n",
    "browser = webdriver.Chrome(service = s)\n",
    "\n",
    "html_source_dict = {}\n",
    "\n",
    "for place in place_list:\n",
    "#for place in [place_list[0], place_list[1]]:\n",
    "    URL_LINK = f\"https://www.google.com/search?q={place}%2C+Baguio+City&hl=en-PH&gl=ph&sxsrf=ALiCzsa6LBioHP276Sw-0F31TiI4SCrd7w%3A1670351806771&ei=vouPY5vXLob3wAOl1ZfgCA&ved=0ahUKEwibrt6w0eX7AhWGO3AKHaXqBYwQ4dUDCA8&uact=5&oq=Heritage+Hill+and+Nature+Park+Garden%2C+Baguio+City&gs_lcp=Cgxnd3Mtd2l6LXNlcnAQAzICCCY6CggAEEcQ1gQQsAM6BAgjECc6CgguEK8BEMcBEEM6BggAEBYQHjoFCAAQhgM6BQghEKABSgQIQRgASgQIRhgAUJ4FWK8iYOckaARwAXgAgAHUBIgB7hSSAQswLjguMi4wLjEuMZgBAKABAcgBCMABAQ&sclient=gws-wiz-serp\"\n",
    "    browser.get(URL_LINK)\n",
    "    time.sleep(2)\n",
    "\n",
    "    wait = WebDriverWait(browser, 10)\n",
    "\n",
    "    # Wait until the element has loaded successfully. May not load and output an error when connection is interrupted, simply rerun the cell.\n",
    "    wait.until(EC.element_to_be_clickable((By.CLASS_NAME, 'hqzQac')))  \n",
    "    browser.find_element(By.CLASS_NAME, 'hqzQac').click()\n",
    "    time.sleep(2)\n",
    "\n",
    "    # Change to times_to_scroll if going for full review scraping\n",
    "    for x in range(100):\n",
    "        try:\n",
    "            scrollable_div = browser.find_element(By.CLASS_NAME, 'review-dialog-list')\n",
    "            browser.execute_script('arguments[0].scrollTop = arguments[0].scrollHeight', scrollable_div)\n",
    "            time.sleep(3)\n",
    "        except:\n",
    "            print(\"Could not find review-dialog-list. Skipping...\")\n",
    "            break;\n",
    "        \n",
    "\n",
    "    SOURCE_HTML = browser.page_source\n",
    "    soup = BeautifulSoup(SOURCE_HTML, \"html.parser\")\n",
    "    review_posts_raw = soup.find_all('div', {\"class\" : \"Jtu6Td\"})\n",
    "        \n",
    "    html_source_dict[str(place)] = []\n",
    "    html_source_dict[str(place)].append(review_posts_raw)\n",
    "    \n",
    "\n",
    "browser.quit()"
   ]
  },
  {
   "cell_type": "code",
   "execution_count": 7,
   "metadata": {},
   "outputs": [
    {
     "name": "stdout",
     "output_type": "stream",
     "text": [
      "Lion’s Head : 1010\n",
      "Baguio Night Market : 1010\n",
      "Strawberry Farm - Home of Giant Strawberry Cake : 1010\n",
      "Burnham Park : 1010\n",
      "Teacher's Camp : 931\n",
      "Heritage Hill and Nature Park Garden : 1010\n",
      "Mines View Observation Deck : 1010\n",
      "Tam-awan Village : 1010\n",
      "Good Shepherd Convent : 1010\n",
      "Bell Church : 1010\n",
      "Valley of Colors : 946\n",
      "Wright Park : 1010\n",
      "Our Lady of the Atonement Cathedral (Baguio Cathedral) - Archdiocese of Nueva Segovia : 1010\n",
      "Tree Top Adventure Baguio : 951\n",
      "Baguio Botanical Garden : 1010\n",
      "Igorot Stone Kingdom : 1010\n",
      "BenCab Museum : 1010\n",
      "Baguio Country Club Christmas Village : 1010\n",
      "Baguio City Market : 1010\n"
     ]
    }
   ],
   "source": [
    "# Instantiate inner list for destination place's review posts\n",
    "review_posts_dict = {'tourist_destination': [], 'review_post' : []}\n",
    "\n",
    "for key in html_source_dict:\n",
    "    bs_html_raw = BeautifulSoup(str(html_source_dict[key]))\n",
    "    review_post_list_raw = bs_html_raw.find_all('span', {\"jscontroller\" : \"MZnM8e\"})\n",
    "\n",
    "    for review_post_element in review_post_list_raw:\n",
    "        review_posts_dict['tourist_destination'].append(str(key))\n",
    "\n",
    "        try:\n",
    "            review_post_element.find(\"div\", {\"class\" : \"k8MTF\"}).decompose()\n",
    "        except Exception:\n",
    "            pass\n",
    "\n",
    "        try:\n",
    "            review_full_post = review_post_element.find('span', {\"class\" : \"review-full-text\"})\n",
    "            review_posts_dict['review_post'].append(review_full_post.get_text())\n",
    "            #print(review_full_post.get_text())\n",
    "        except Exception as e:\n",
    "            review_posts_dict['review_post'].append(review_post_element.get_text())\n",
    "            #print(review_post_element.get_text())\n",
    "\n",
    "\n",
    "destinations_set = set(review_posts_dict[\"tourist_destination\"])\n",
    "unique_destinations_list = (list(destinations_set))\n",
    "\n",
    "for destination in unique_destinations_list:\n",
    "    print(f\"{destination} :\", review_posts_dict['tourist_destination'].count(destination))"
   ]
  },
  {
   "cell_type": "markdown",
   "metadata": {},
   "source": [
    "# Preprocess Preliminaries"
   ]
  },
  {
   "cell_type": "code",
   "execution_count": 8,
   "metadata": {},
   "outputs": [
    {
     "data": {
      "text/plain": [
       "tourist_destination       0\n",
       "review_post            3954\n",
       "dtype: int64"
      ]
     },
     "execution_count": 8,
     "metadata": {},
     "output_type": "execute_result"
    }
   ],
   "source": [
    "import numpy as np\n",
    "\n",
    "review_posts_df = pd.DataFrame.from_dict(review_posts_dict)\n",
    "\n",
    "# Remove \"(Translated by Google)\", \"(Original)\", and succeeding original review post after (Original)\n",
    "review_posts_df['review_post'] = review_posts_df['review_post'].map(lambda x: x.replace('(Translated by Google) ', ''))\n",
    "review_posts_df['review_post'] = review_posts_df['review_post'].map(lambda x: x.split('(Original)', 1)[0])\n",
    "\n",
    "# Replace empty cells with NaN values\n",
    "review_posts_df['review_post'].replace('', np.nan, inplace = True)\n",
    "review_posts_df.isnull().sum()\n"
   ]
  },
  {
   "cell_type": "code",
   "execution_count": 9,
   "metadata": {},
   "outputs": [
    {
     "data": {
      "text/plain": [
       "tourist_destination    0\n",
       "review_post            0\n",
       "dtype: int64"
      ]
     },
     "execution_count": 9,
     "metadata": {},
     "output_type": "execute_result"
    }
   ],
   "source": [
    "review_posts_df.dropna(inplace = True)\n",
    "review_posts_df.isnull().sum()"
   ]
  },
  {
   "cell_type": "code",
   "execution_count": 10,
   "metadata": {},
   "outputs": [
    {
     "data": {
      "text/html": [
       "<div>\n",
       "<style scoped>\n",
       "    .dataframe tbody tr th:only-of-type {\n",
       "        vertical-align: middle;\n",
       "    }\n",
       "\n",
       "    .dataframe tbody tr th {\n",
       "        vertical-align: top;\n",
       "    }\n",
       "\n",
       "    .dataframe thead th {\n",
       "        text-align: right;\n",
       "    }\n",
       "</style>\n",
       "<table border=\"1\" class=\"dataframe\">\n",
       "  <thead>\n",
       "    <tr style=\"text-align: right;\">\n",
       "      <th></th>\n",
       "      <th>tourist_destination</th>\n",
       "      <th>review_post</th>\n",
       "    </tr>\n",
       "  </thead>\n",
       "  <tbody>\n",
       "    <tr>\n",
       "      <th>0</th>\n",
       "      <td>Burnham Park</td>\n",
       "      <td>An excellent place for family and friends to v...</td>\n",
       "    </tr>\n",
       "    <tr>\n",
       "      <th>1</th>\n",
       "      <td>Burnham Park</td>\n",
       "      <td>A lovely place to be on a nice day.We were ple...</td>\n",
       "    </tr>\n",
       "    <tr>\n",
       "      <th>2</th>\n",
       "      <td>Burnham Park</td>\n",
       "      <td>Definitely one of the best places to visit in ...</td>\n",
       "    </tr>\n",
       "    <tr>\n",
       "      <th>3</th>\n",
       "      <td>Burnham Park</td>\n",
       "      <td>I have always been looking at this park ever s...</td>\n",
       "    </tr>\n",
       "    <tr>\n",
       "      <th>4</th>\n",
       "      <td>Burnham Park</td>\n",
       "      <td>Very beautiful park with boating and cycling a...</td>\n",
       "    </tr>\n",
       "    <tr>\n",
       "      <th>...</th>\n",
       "      <td>...</td>\n",
       "      <td>...</td>\n",
       "    </tr>\n",
       "    <tr>\n",
       "      <th>18335</th>\n",
       "      <td>Teacher's Camp</td>\n",
       "      <td>There is no ghost 👻👻👻Very affordable</td>\n",
       "    </tr>\n",
       "    <tr>\n",
       "      <th>18341</th>\n",
       "      <td>Teacher's Camp</td>\n",
       "      <td>Classy place</td>\n",
       "    </tr>\n",
       "    <tr>\n",
       "      <th>18344</th>\n",
       "      <td>Teacher's Camp</td>\n",
       "      <td>A beautiful view is cheap</td>\n",
       "    </tr>\n",
       "    <tr>\n",
       "      <th>18352</th>\n",
       "      <td>Teacher's Camp</td>\n",
       "      <td>well done</td>\n",
       "    </tr>\n",
       "    <tr>\n",
       "      <th>18354</th>\n",
       "      <td>Teacher's Camp</td>\n",
       "      <td>Mumu</td>\n",
       "    </tr>\n",
       "  </tbody>\n",
       "</table>\n",
       "<p>15034 rows × 2 columns</p>\n",
       "</div>"
      ],
      "text/plain": [
       "      tourist_destination                                        review_post\n",
       "0            Burnham Park  An excellent place for family and friends to v...\n",
       "1            Burnham Park  A lovely place to be on a nice day.We were ple...\n",
       "2            Burnham Park  Definitely one of the best places to visit in ...\n",
       "3            Burnham Park  I have always been looking at this park ever s...\n",
       "4            Burnham Park  Very beautiful park with boating and cycling a...\n",
       "...                   ...                                                ...\n",
       "18335      Teacher's Camp               There is no ghost 👻👻👻Very affordable\n",
       "18341      Teacher's Camp                                       Classy place\n",
       "18344      Teacher's Camp                          A beautiful view is cheap\n",
       "18352      Teacher's Camp                                          well done\n",
       "18354      Teacher's Camp                                               Mumu\n",
       "\n",
       "[15034 rows x 2 columns]"
      ]
     },
     "execution_count": 10,
     "metadata": {},
     "output_type": "execute_result"
    }
   ],
   "source": [
    "review_posts_df.to_csv(\"../csv/uncleaned/tourist_destinations_review_posts_baguio2.csv\", index = False)\n",
    "review_posts_df"
   ]
  },
  {
   "cell_type": "code",
   "execution_count": null,
   "metadata": {},
   "outputs": [],
   "source": []
  }
 ],
 "metadata": {
  "kernelspec": {
   "display_name": "Python 3",
   "language": "python",
   "name": "python3"
  },
  "language_info": {
   "codemirror_mode": {
    "name": "ipython",
    "version": 3
   },
   "file_extension": ".py",
   "mimetype": "text/x-python",
   "name": "python",
   "nbconvert_exporter": "python",
   "pygments_lexer": "ipython3",
   "version": "3.10.8 (tags/v3.10.8:aaaf517, Oct 11 2022, 16:50:30) [MSC v.1933 64 bit (AMD64)]"
  },
  "orig_nbformat": 4,
  "vscode": {
   "interpreter": {
    "hash": "675b13e958f0d0236d13cdfe08a1df3882cae564fa23a2e7e5eb1f2c6c632b02"
   }
  }
 },
 "nbformat": 4,
 "nbformat_minor": 2
}
