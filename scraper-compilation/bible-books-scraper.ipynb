{
 "cells": [
  {
   "attachments": {},
   "cell_type": "markdown",
   "metadata": {},
   "source": [
    "# Get Book Names"
   ]
  },
  {
   "cell_type": "code",
   "execution_count": 2,
   "metadata": {},
   "outputs": [
    {
     "name": "stderr",
     "output_type": "stream",
     "text": [
      "C:\\Users\\Jeremy\\AppData\\Local\\Temp\\ipykernel_21480\\1901564974.py:9: DeprecationWarning: executable_path has been deprecated, please pass in a Service object\n",
      "  browser = webdriver.Chrome(\"../tools/chromedriver.exe\")\n"
     ]
    }
   ],
   "source": [
    "from bs4 import BeautifulSoup\n",
    "from selenium import webdriver\n",
    "from selenium.webdriver.chrome.service import Service\n",
    "from selenium.webdriver.common.by import By\n",
    "from selenium.webdriver.support.ui import WebDriverWait\n",
    "from selenium.webdriver.support import expected_conditions as EC\n",
    "import time\n",
    "\n",
    "browser = webdriver.Chrome(\"../tools/chromedriver.exe\")\n",
    "URL_LINK = (\"https://www.bible.com/bible/1141/GEN.1.PMPV\")\n",
    "browser.get(URL_LINK)\n",
    "time.sleep(2)\n",
    "\n",
    "wait = WebDriverWait(browser, 10)\n",
    "\n",
    "# Wait until the element has loaded successfully. May not load and output an error when connection is interrupted, simply rerun the cell.\n",
    "wait.until(EC.element_to_be_clickable((By.XPATH, \"/html/body/div[1]/div[1]/header/div/div[1]\")))\n",
    "browser.find_element(By.XPATH, \"/html/body/div[1]/div[1]/header/div/div[1]\").click()\n",
    "time.sleep(2)\n",
    "\n",
    "SOURCE_HTML = browser.page_source\n",
    "\n",
    "browser.quit()"
   ]
  },
  {
   "cell_type": "code",
   "execution_count": 3,
   "metadata": {},
   "outputs": [
    {
     "data": {
      "text/plain": [
       "78"
      ]
     },
     "execution_count": 3,
     "metadata": {},
     "output_type": "execute_result"
    }
   ],
   "source": [
    "soup = BeautifulSoup(SOURCE_HTML, \"html.parser\")\n",
    "books_html_raw = soup.find_all('li', {\"data-vars-event-action\" : \"Select Book\"})\n",
    "books_html_raw.pop(0)\n",
    "\n",
    "books = []\n",
    "\n",
    "for raw_books in books_html_raw:\n",
    "    books.append(raw_books.get_text())\n",
    "\n",
    "len(books_html_raw)"
   ]
  },
  {
   "attachments": {},
   "cell_type": "markdown",
   "metadata": {},
   "source": [
    "# Obtain Corresponding Chapter Count"
   ]
  },
  {
   "cell_type": "code",
   "execution_count": 4,
   "metadata": {},
   "outputs": [
    {
     "name": "stderr",
     "output_type": "stream",
     "text": [
      "C:\\Users\\Jeremy\\AppData\\Local\\Temp\\ipykernel_21480\\2995128888.py:11: DeprecationWarning: executable_path has been deprecated, please pass in a Service object\n",
      "  browser = webdriver.Chrome(\"../tools/chromedriver.exe\")\n"
     ]
    }
   ],
   "source": [
    "from bs4 import BeautifulSoup\n",
    "from selenium import webdriver\n",
    "from selenium.webdriver.chrome.service import Service\n",
    "from selenium.webdriver.common.by import By\n",
    "from selenium.webdriver.support.ui import WebDriverWait\n",
    "from selenium.webdriver.support import expected_conditions as EC\n",
    "import time\n",
    "\n",
    "books_dict = {}\n",
    "\n",
    "browser = webdriver.Chrome(\"../tools/chromedriver.exe\")\n",
    "URL_LINK = (\"https://www.bible.com/bible/1141/GEN.1.PMPV\")\n",
    "browser.get(URL_LINK)\n",
    "time.sleep(2)\n",
    "\n",
    "wait = WebDriverWait(browser, 10)\n",
    "\n",
    "# Wait until the element has loaded successfully. May not load and output an error when connection is interrupted, simply rerun the cell.\n",
    "wait.until(EC.element_to_be_clickable((By.XPATH, \"/html/body/div[1]/div[1]/header/div/div[1]\")))\n",
    "browser.find_element(By.XPATH, \"/html/body/div[1]/div[1]/header/div/div[1]\").click()\n",
    "time.sleep(2)\n",
    "\n",
    "for i in range(len(books_html_raw)):\n",
    "    time.sleep(2)\n",
    "\n",
    "    try:\n",
    "        browser.find_element(By.XPATH, f'//*[@id=\"bible-book-list\"]/div/div/div[3]/amp-list/div/amp-selector/ul/li[{i+1}]').click()\n",
    "    except:\n",
    "        continue\n",
    "\n",
    "    SOURCE_HTML = browser.page_source\n",
    "\n",
    "    soup2 = BeautifulSoup(SOURCE_HTML, \"html.parser\")\n",
    "    chapters_html_raw = soup2.find_all('a', {\"data-vars-event-action\" : \"Select Chapter\"})\n",
    "    books_dict[str(books[i])] = len(chapters_html_raw)-1\n",
    "    time.sleep(2)\n",
    "\n",
    "    wait.until(EC.element_to_be_clickable((By.XPATH, '//*[@id=\"bible-chapter-list\"]/div/div/amp-list/div/amp-selector/div[1]/div[1]/button')))\n",
    "    browser.find_element(By.XPATH, '//*[@id=\"bible-chapter-list\"]/div/div/amp-list/div/amp-selector/div[1]/div[1]/button ').click()\n",
    "    time.sleep(2)\n",
    "    \n",
    "\n",
    "SOURCE_HTML = browser.page_source\n",
    "\n",
    "browser.quit()\n",
    "\n",
    "books_dict"
   ]
  },
  {
   "cell_type": "code",
   "execution_count": null,
   "metadata": {},
   "outputs": [
    {
     "data": {
      "text/html": [
       "<div>\n",
       "<style scoped>\n",
       "    .dataframe tbody tr th:only-of-type {\n",
       "        vertical-align: middle;\n",
       "    }\n",
       "\n",
       "    .dataframe tbody tr th {\n",
       "        vertical-align: top;\n",
       "    }\n",
       "\n",
       "    .dataframe thead th {\n",
       "        text-align: right;\n",
       "    }\n",
       "</style>\n",
       "<table border=\"1\" class=\"dataframe\">\n",
       "  <thead>\n",
       "    <tr style=\"text-align: right;\">\n",
       "      <th></th>\n",
       "      <th>book_name</th>\n",
       "      <th>total_chapters</th>\n",
       "    </tr>\n",
       "  </thead>\n",
       "  <tbody>\n",
       "    <tr>\n",
       "      <th>0</th>\n",
       "      <td>Genesis</td>\n",
       "      <td>51</td>\n",
       "    </tr>\n",
       "    <tr>\n",
       "      <th>1</th>\n",
       "      <td>Exodo</td>\n",
       "      <td>41</td>\n",
       "    </tr>\n",
       "    <tr>\n",
       "      <th>2</th>\n",
       "      <td>Levitico</td>\n",
       "      <td>29</td>\n",
       "    </tr>\n",
       "  </tbody>\n",
       "</table>\n",
       "</div>"
      ],
      "text/plain": [
       "  book_name  total_chapters\n",
       "0   Genesis              51\n",
       "1     Exodo              41\n",
       "2  Levitico              29"
      ]
     },
     "execution_count": 48,
     "metadata": {},
     "output_type": "execute_result"
    }
   ],
   "source": [
    "import pandas as pd\n",
    "\n",
    "books_df = pd.DataFrame(books_dict.items(), columns=['book_name', 'total_chapters'])\n",
    "books_df"
   ]
  },
  {
   "cell_type": "code",
   "execution_count": null,
   "metadata": {},
   "outputs": [],
   "source": [
    "books_df.to_csv(\"../csv/bible_books.csv\", index = False)"
   ]
  },
  {
   "cell_type": "code",
   "execution_count": null,
   "metadata": {},
   "outputs": [],
   "source": []
  }
 ],
 "metadata": {
  "kernelspec": {
   "display_name": "mykernel",
   "language": "python",
   "name": "mykernel"
  },
  "language_info": {
   "codemirror_mode": {
    "name": "ipython",
    "version": 3
   },
   "file_extension": ".py",
   "mimetype": "text/x-python",
   "name": "python",
   "nbconvert_exporter": "python",
   "pygments_lexer": "ipython3",
   "version": "3.9.12"
  },
  "orig_nbformat": 4,
  "vscode": {
   "interpreter": {
    "hash": "675b13e958f0d0236d13cdfe08a1df3882cae564fa23a2e7e5eb1f2c6c632b02"
   }
  }
 },
 "nbformat": 4,
 "nbformat_minor": 2
}
